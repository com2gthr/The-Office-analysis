{
 "cells": [
  {
   "cell_type": "markdown",
   "source": [
    "### Author: Aman Varma\r\n",
    "### The following notebook does the research and share the analysis of the series called \"The Office'\r\n",
    "### For each Question a section has been created\r\n",
    "### Solution to each question would be getting downloaded to your system in .csv file, when the script will be ran and also you can see the dataframe of those variables in the script as well.\r\n",
    "### Please note I have provided two solutions based on my assumption for Question 2\r\n",
    "### Any visualisation created would automatically get downloaded in your system CWD once the script is ran\r\n",
    "### Answer to Question 6 is at the very end of the script."
   ],
   "metadata": {}
  },
  {
   "cell_type": "code",
   "execution_count": 1,
   "source": [
    "import matplotlib.pyplot as plt\r\n",
    "import pandas as pd \r\n",
    "import os\r\n",
    "import nltk\r\n",
    "from nltk.tokenize import word_tokenize\r\n",
    "import json \r\n",
    "import re\r\n",
    "from textblob import TextBlob"
   ],
   "outputs": [],
   "metadata": {}
  },
  {
   "cell_type": "code",
   "execution_count": 2,
   "source": [
    "df=pd.read_csv(r\"{cwd}\\the_office_lines_scripts.csv\".format(cwd=os.curdir)) "
   ],
   "outputs": [],
   "metadata": {}
  },
  {
   "cell_type": "markdown",
   "source": [
    "# Data Preprocessing and exploration"
   ],
   "metadata": {}
  },
  {
   "cell_type": "code",
   "execution_count": 3,
   "source": [
    "df.isnull().values.any() #to check if null values or not"
   ],
   "outputs": [
    {
     "output_type": "execute_result",
     "data": {
      "text/plain": [
       "False"
      ]
     },
     "metadata": {},
     "execution_count": 3
    }
   ],
   "metadata": {}
  },
  {
   "cell_type": "code",
   "execution_count": 4,
   "source": [
    "df['speaker']=df['speaker'].str.lower() #standardizing the data set "
   ],
   "outputs": [],
   "metadata": {}
  },
  {
   "cell_type": "code",
   "execution_count": 5,
   "source": [
    "michael_count=df['speaker'].str.count(\"mic\") #Multiple Michael spellin exist"
   ],
   "outputs": [],
   "metadata": {}
  },
  {
   "cell_type": "markdown",
   "source": [
    "###  when the name of speaker is > 7, in most of thos case there are more than 1 person speaking and I have categorised them as multiple speakers in data set. Multiple speakers are very less. So we can conclude that there are 291 speakers.\r\n",
    "### The number of people with name > 7 are very less and hence they are not affecting the analysis. This number is based on the analysis of name length for the whole dataset"
   ],
   "metadata": {}
  },
  {
   "cell_type": "code",
   "execution_count": 6,
   "source": [
    "df['speaker_name_length']=df['speaker'].apply(len) #To find out wether the names is greater than 7 or not. I have removed names great than 7 length"
   ],
   "outputs": [],
   "metadata": {}
  },
  {
   "cell_type": "code",
   "execution_count": 7,
   "source": [
    "df.loc[df['speaker_name_length']>7,'speaker']=\"Multiple Speakers\""
   ],
   "outputs": [],
   "metadata": {}
  },
  {
   "cell_type": "markdown",
   "source": [
    "### the graph below explain the reason of choosing 7 for speaker name length"
   ],
   "metadata": {}
  },
  {
   "cell_type": "code",
   "execution_count": 8,
   "source": [
    "plt.hist(df.loc[df['speaker_name_length']<7,'speaker_name_length'])\r\n",
    "plt.title(\"Name length Variation\")\r\n",
    "plt.xlabel(\"Name length\")\r\n",
    "plt.ylabel(\"Count of names\")\r\n",
    "plt.show()"
   ],
   "outputs": [
    {
     "output_type": "display_data",
     "data": {
      "image/png": "[encoded data removed]",
      "text/plain": [
       "<Figure size 432x288 with 1 Axes>"
      ]
     },
     "metadata": {
      "needs_background": "light"
     }
    }
   ],
   "metadata": {}
  },
  {
   "cell_type": "code",
   "execution_count": 9,
   "source": [
    "plt.hist(df.loc[df['speaker_name_length']>7,'speaker_name_length'])\r\n",
    "plt.title(\"Name length Variation\")\r\n",
    "plt.xlabel(\"Name length\")\r\n",
    "plt.ylabel(\"Count of names\")\r\n",
    "plt.savefig(r'./Name_length_Variation.png')\r\n",
    "plt.show()"
   ],
   "outputs": [
    {
     "output_type": "display_data",
     "data": {
      "image/png": "[encoded data removed]",
      "text/plain": [
       "<Figure size 432x288 with 1 Axes>"
      ]
     },
     "metadata": {
      "needs_background": "light"
     }
    }
   ],
   "metadata": {}
  },
  {
   "cell_type": "markdown",
   "source": [
    "### As see in the above graph the number of charcters with name greater than 7 is very less when compared to the whole dataset"
   ],
   "metadata": {}
  },
  {
   "cell_type": "code",
   "execution_count": 10,
   "source": [
    "df['speaker'] = df['speaker'].str.replace(r\"(\\[(.*?)\\])\",\"\") #removing the special charcaters from the column"
   ],
   "outputs": [
    {
     "output_type": "stream",
     "name": "stderr",
     "text": [
      "C:\\Users\\15145\\AppData\\Local\\Temp/ipykernel_23776/3505457349.py:1: FutureWarning: The default value of regex will change from True to False in a future version.\n",
      "  df['speaker'] = df['speaker'].str.replace(r\"(\\[(.*?)\\])\",\"\") #removing the special charcaters from the column\n"
     ]
    }
   ],
   "metadata": {}
  },
  {
   "cell_type": "code",
   "execution_count": 11,
   "source": [
    "df=df[df['deleted']==False] #removing deleted scenes as they were never aired, so we should not anlyze them"
   ],
   "outputs": [],
   "metadata": {}
  },
  {
   "cell_type": "code",
   "execution_count": 12,
   "source": [
    "df= df.replace(dict.fromkeys(['michael','michel','micheal','michal','micahel','michal','michae','micael','mihael'], 'michael')) #Cleaning misspelled Characters "
   ],
   "outputs": [],
   "metadata": {}
  },
  {
   "cell_type": "code",
   "execution_count": 13,
   "source": [
    "df= df.replace(dict.fromkeys(['anglea','angels','angel'], 'angela')) #Cleaning misspelled Characters"
   ],
   "outputs": [],
   "metadata": {}
  },
  {
   "cell_type": "code",
   "execution_count": 14,
   "source": [
    "df= df.replace(dict.fromkeys(['darrly','darry','daryl'], 'darryl')) #Cleaning misspelled Characters"
   ],
   "outputs": [],
   "metadata": {}
  },
  {
   "cell_type": "code",
   "execution_count": 15,
   "source": [
    "df= df.replace(dict.fromkeys(['phylis','phyliss'], 'phyllis'))"
   ],
   "outputs": [],
   "metadata": {}
  },
  {
   "cell_type": "code",
   "execution_count": 16,
   "source": [
    "df= df.replace(dict.fromkeys(['jim9334'], 'jim'))"
   ],
   "outputs": [],
   "metadata": {}
  },
  {
   "cell_type": "code",
   "execution_count": 17,
   "source": [
    "df= df.replace(dict.fromkeys(['chares'], 'charles'))"
   ],
   "outputs": [],
   "metadata": {}
  },
  {
   "cell_type": "code",
   "execution_count": 18,
   "source": [
    "df= df.replace(dict.fromkeys(['dwight.','dight'], 'dwight'))"
   ],
   "outputs": [],
   "metadata": {}
  },
  {
   "cell_type": "code",
   "execution_count": 19,
   "source": [
    "season_episode=df.groupby(['season','episode']).count()"
   ],
   "outputs": [],
   "metadata": {}
  },
  {
   "cell_type": "code",
   "execution_count": 20,
   "source": [
    "season_episode.reset_index(inplace=True)"
   ],
   "outputs": [],
   "metadata": {}
  },
  {
   "cell_type": "code",
   "execution_count": 21,
   "source": [
    "season_episode = season_episode.drop(season_episode.columns[[2,3,4,5,6,7]], axis=1) #data Cleansing"
   ],
   "outputs": [],
   "metadata": {}
  },
  {
   "cell_type": "code",
   "execution_count": 22,
   "source": [
    "season_episode_viz=pd.DataFrame(season_episode.groupby('season').size()) "
   ],
   "outputs": [],
   "metadata": {}
  },
  {
   "cell_type": "code",
   "execution_count": 23,
   "source": [
    "season_episode_viz.rename(columns={0:'episode_count'}, inplace=True)"
   ],
   "outputs": [],
   "metadata": {}
  },
  {
   "cell_type": "code",
   "execution_count": 24,
   "source": [
    "season_episode_viz.reset_index(inplace=True)"
   ],
   "outputs": [],
   "metadata": {}
  },
  {
   "cell_type": "code",
   "execution_count": 25,
   "source": [
    "\r\n",
    "plt.scatter(season_episode_viz['season'], season_episode_viz['episode_count']) #graph shows the episode count versus the season\r\n",
    "plt.title(\"Episode count variation\")\r\n",
    "plt.xlabel(\"Season\")\r\n",
    "plt.ylabel(\"Episode count\")\r\n",
    "plt.savefig(r'./Episode_count_variation.png')\r\n",
    "plt.show()"
   ],
   "outputs": [
    {
     "output_type": "display_data",
     "data": {
      "image/png": "[encoded data removed]",
      "text/plain": [
       "<Figure size 432x288 with 1 Axes>"
      ]
     },
     "metadata": {
      "needs_background": "light"
     }
    }
   ],
   "metadata": {}
  },
  {
   "cell_type": "markdown",
   "source": [
    "### The graph above showcase the variation of the number of episodes aired in a season. Its interesting to see that in season 1 there were just 6 episodes and after the their is a big jump in the number of episdoes"
   ],
   "metadata": {}
  },
  {
   "cell_type": "code",
   "execution_count": 26,
   "source": [
    "df['line_text_new'] = df['line_text'].str.replace(r\"[^a-zA-Z0-9]+\", \" \").str.strip() #only keep letters and alphabet in the line text "
   ],
   "outputs": [
    {
     "output_type": "stream",
     "name": "stderr",
     "text": [
      "C:\\Users\\15145\\AppData\\Local\\Temp/ipykernel_23776/151388435.py:1: FutureWarning: The default value of regex will change from True to False in a future version.\n",
      "  df['line_text_new'] = df['line_text'].str.replace(r\"[^a-zA-Z0-9]+\", \" \").str.strip() #only keep letters and alphabet in the line text\n"
     ]
    }
   ],
   "metadata": {}
  },
  {
   "cell_type": "code",
   "execution_count": 27,
   "source": [
    "df['token_line_text'] = df.apply(lambda row: nltk.word_tokenize(row['line_text_new']), axis=1) #Tokenizing the line_text column"
   ],
   "outputs": [],
   "metadata": {}
  },
  {
   "cell_type": "code",
   "execution_count": 28,
   "source": [
    "with open(r'./stopwords.json') as stopwords_list:  #removing stop words\r\n",
    "  stopwords_list_used = json.load(stopwords_list)"
   ],
   "outputs": [],
   "metadata": {}
  },
  {
   "cell_type": "code",
   "execution_count": 29,
   "source": [
    "df['cleaned_line_text'] = df['token_line_text'].apply(lambda x: ([word for word in x if word not in (stopwords_list_used)]))"
   ],
   "outputs": [],
   "metadata": {}
  },
  {
   "cell_type": "code",
   "execution_count": 30,
   "source": [
    "distinct_name=df['speaker'].unique()"
   ],
   "outputs": [],
   "metadata": {}
  },
  {
   "cell_type": "code",
   "execution_count": 31,
   "source": [
    "distinct_name=pd.DataFrame(distinct_name)"
   ],
   "outputs": [],
   "metadata": {}
  },
  {
   "cell_type": "markdown",
   "source": [
    "# Question 1 : How many characters are there? What are their names?"
   ],
   "metadata": {}
  },
  {
   "cell_type": "code",
   "execution_count": 32,
   "source": [
    "distinct_name.rename(columns={0:'speaker'}, inplace=True)"
   ],
   "outputs": [],
   "metadata": {}
  },
  {
   "cell_type": "code",
   "execution_count": 33,
   "source": [
    "distinct_name.to_csv(r\"./Question1_Aman_Varma.csv\",header=True, index = False) #names of different characters in the series"
   ],
   "outputs": [],
   "metadata": {}
  },
  {
   "cell_type": "code",
   "execution_count": 34,
   "source": [
    "print(distinct_name)"
   ],
   "outputs": [
    {
     "output_type": "stream",
     "name": "stdout",
     "text": [
      "     speaker\n",
      "0    michael\n",
      "1        jim\n",
      "2        pam\n",
      "3     dwight\n",
      "4        jan\n",
      "..       ...\n",
      "286    man 2\n",
      "287    man 3\n",
      "288  woman 3\n",
      "289  woman 4\n",
      "290     joan\n",
      "\n",
      "[291 rows x 1 columns]\n"
     ]
    }
   ],
   "metadata": {}
  },
  {
   "cell_type": "code",
   "execution_count": 35,
   "source": [
    "print(distinct_name.count()) #total number of characters in the game"
   ],
   "outputs": [
    {
     "output_type": "stream",
     "name": "stdout",
     "text": [
      "speaker    291\n",
      "dtype: int64\n"
     ]
    }
   ],
   "metadata": {}
  },
  {
   "cell_type": "markdown",
   "source": [
    "### There are 291 distinct speaker in the series. This is under assumption that speaker name cannot be greater than 7. \r\n",
    "### I am using 7 as threshold as name of around 90% of the data set was around 7, after my preliminary analysis.\r\n"
   ],
   "metadata": {}
  },
  {
   "cell_type": "markdown",
   "source": [
    "# Question 2 For each character, find out who has the most lines across all episodes"
   ],
   "metadata": {}
  },
  {
   "cell_type": "code",
   "execution_count": 36,
   "source": [
    "lead_actor=pd.DataFrame(df.groupby('speaker')['speaker'].count().nlargest(1)) #returns the info character who has spoken most lines among all episodes"
   ],
   "outputs": [],
   "metadata": {}
  },
  {
   "cell_type": "code",
   "execution_count": 37,
   "source": [
    "lead_actor.rename(columns={'speaker': 'line_count'},inplace=True)"
   ],
   "outputs": [],
   "metadata": {}
  },
  {
   "cell_type": "code",
   "execution_count": 38,
   "source": [
    "lead_actor.reset_index(inplace=True)"
   ],
   "outputs": [],
   "metadata": {}
  },
  {
   "cell_type": "code",
   "execution_count": 39,
   "source": [
    "lead_actor.to_csv(r\"./Question2_version1_Aman_Varma.csv\",header=True, index = False)"
   ],
   "outputs": [],
   "metadata": {}
  },
  {
   "cell_type": "code",
   "execution_count": 40,
   "source": [
    "print(lead_actor) #version1"
   ],
   "outputs": [
    {
     "output_type": "stream",
     "name": "stdout",
     "text": [
      "   speaker  line_count\n",
      "0  michael       11601\n"
     ]
    }
   ],
   "metadata": {}
  },
  {
   "cell_type": "markdown",
   "source": [
    "### Version1: \"michael\" has the most lines accross all episodes"
   ],
   "metadata": {}
  },
  {
   "cell_type": "code",
   "execution_count": 41,
   "source": [
    "lead_actor_per_episode=pd.DataFrame(df.groupby(['season','episode','speaker'])['speaker'].size())"
   ],
   "outputs": [],
   "metadata": {}
  },
  {
   "cell_type": "code",
   "execution_count": 42,
   "source": [
    "lead_actor_per_episode.rename(columns={'speaker':'line_spoken'},inplace=True)"
   ],
   "outputs": [],
   "metadata": {}
  },
  {
   "cell_type": "code",
   "execution_count": 43,
   "source": [
    "lead_actor_per_episode.reset_index(inplace=True)"
   ],
   "outputs": [],
   "metadata": {}
  },
  {
   "cell_type": "code",
   "execution_count": 44,
   "source": [
    "lead_actor_max_line=pd.DataFrame(lead_actor_per_episode.sort_values('line_spoken',ascending=False).drop_duplicates(['season','episode']))"
   ],
   "outputs": [],
   "metadata": {}
  },
  {
   "cell_type": "code",
   "execution_count": 45,
   "source": [
    "lead_actor_max_line.to_csv(r'./Question2_version2_Aman_Varma.csv',index=False,header=True)"
   ],
   "outputs": [],
   "metadata": {}
  },
  {
   "cell_type": "code",
   "execution_count": 91,
   "source": [
    "print(lead_actor_max_line)  #version 2"
   ],
   "outputs": [
    {
     "output_type": "stream",
     "name": "stdout",
     "text": [
      "      season  episode  speaker  line_spoken\n",
      "1114       4       14  michael          167\n",
      "943        4        4  michael          162\n",
      "885        4        1  michael          160\n",
      "905        4        2  michael          158\n",
      "925        4        3  michael          156\n",
      "...      ...      ...      ...          ...\n",
      "2922       8       22     andy           41\n",
      "3359       9       20     andy           39\n",
      "3020       9        2      jim           39\n",
      "2572       8        5     erin           36\n",
      "2326       7       16  michael           33\n",
      "\n",
      "[186 rows x 4 columns]\n"
     ]
    }
   ],
   "metadata": {}
  },
  {
   "cell_type": "code",
   "execution_count": 92,
   "source": [
    "lead_actor_max_line[lead_actor_max_line['season']== 1]"
   ],
   "outputs": [
    {
     "output_type": "execute_result",
     "data": {
      "text/html": [
       "<div>\n",
       "<style scoped>\n",
       "    .dataframe tbody tr th:only-of-type {\n",
       "        vertical-align: middle;\n",
       "    }\n",
       "\n",
       "    .dataframe tbody tr th {\n",
       "        vertical-align: top;\n",
       "    }\n",
       "\n",
       "    .dataframe thead th {\n",
       "        text-align: right;\n",
       "    }\n",
       "</style>\n",
       "<table border=\"1\" class=\"dataframe\">\n",
       "  <thead>\n",
       "    <tr style=\"text-align: right;\">\n",
       "      <th></th>\n",
       "      <th>season</th>\n",
       "      <th>episode</th>\n",
       "      <th>speaker</th>\n",
       "      <th>line_spoken</th>\n",
       "    </tr>\n",
       "  </thead>\n",
       "  <tbody>\n",
       "    <tr>\n",
       "      <th>58</th>\n",
       "      <td>1</td>\n",
       "      <td>5</td>\n",
       "      <td>michael</td>\n",
       "      <td>106</td>\n",
       "    </tr>\n",
       "    <tr>\n",
       "      <th>72</th>\n",
       "      <td>1</td>\n",
       "      <td>6</td>\n",
       "      <td>michael</td>\n",
       "      <td>106</td>\n",
       "    </tr>\n",
       "    <tr>\n",
       "      <th>7</th>\n",
       "      <td>1</td>\n",
       "      <td>1</td>\n",
       "      <td>michael</td>\n",
       "      <td>82</td>\n",
       "    </tr>\n",
       "    <tr>\n",
       "      <th>20</th>\n",
       "      <td>1</td>\n",
       "      <td>2</td>\n",
       "      <td>michael</td>\n",
       "      <td>81</td>\n",
       "    </tr>\n",
       "    <tr>\n",
       "      <th>42</th>\n",
       "      <td>1</td>\n",
       "      <td>4</td>\n",
       "      <td>michael</td>\n",
       "      <td>79</td>\n",
       "    </tr>\n",
       "    <tr>\n",
       "      <th>28</th>\n",
       "      <td>1</td>\n",
       "      <td>3</td>\n",
       "      <td>dwight</td>\n",
       "      <td>62</td>\n",
       "    </tr>\n",
       "  </tbody>\n",
       "</table>\n",
       "</div>"
      ],
      "text/plain": [
       "    season  episode  speaker  line_spoken\n",
       "58       1        5  michael          106\n",
       "72       1        6  michael          106\n",
       "7        1        1  michael           82\n",
       "20       1        2  michael           81\n",
       "42       1        4  michael           79\n",
       "28       1        3   dwight           62"
      ]
     },
     "metadata": {},
     "execution_count": 92
    }
   ],
   "metadata": {}
  },
  {
   "cell_type": "markdown",
   "source": [
    "### For Question 2 I have shared two solutions:\r\n",
    "### version1 is built assuming that i have to provide the name and the count of the lines of the charcter who has the spoken max lines among all episodes in total\r\n",
    "### version2 is built assuming that i have to provide the lead character per episode, season"
   ],
   "metadata": {}
  },
  {
   "cell_type": "code",
   "execution_count": 47,
   "source": [
    "lead_actor_max_line_viz=pd.DataFrame(lead_actor_max_line.groupby(['season','speaker']).size())"
   ],
   "outputs": [],
   "metadata": {}
  },
  {
   "cell_type": "code",
   "execution_count": 48,
   "source": [
    "lead_actor_max_line_viz.rename(columns={0:'frequency_speaker'}, inplace=True)"
   ],
   "outputs": [],
   "metadata": {}
  },
  {
   "cell_type": "code",
   "execution_count": 49,
   "source": [
    "lead_actor_max_line_viz.reset_index(inplace=True)"
   ],
   "outputs": [],
   "metadata": {}
  },
  {
   "cell_type": "markdown",
   "source": [
    "### Graph showing the lead charcters recurrence in a season per episode"
   ],
   "metadata": {}
  },
  {
   "cell_type": "code",
   "execution_count": 50,
   "source": [
    "plt.scatter(lead_actor_max_line_viz['speaker'], lead_actor_max_line_viz['frequency_speaker'],s=20)\r\n",
    "plt.title(\"speaker occurence count in season\")\r\n",
    "plt.xlabel(\"Speaker\")\r\n",
    "plt.ylabel(\"Occurence count in a season\")\r\n",
    "plt.gcf().autofmt_xdate()\r\n",
    "plt.savefig(r'./speaker_occurence_count_season.png')\r\n",
    "plt.show()"
   ],
   "outputs": [
    {
     "output_type": "display_data",
     "data": {
      "image/png": "[encoded data removed]",
      "text/plain": [
       "<Figure size 432x288 with 1 Axes>"
      ]
     },
     "metadata": {
      "needs_background": "light"
     }
    }
   ],
   "metadata": {}
  },
  {
   "cell_type": "markdown",
   "source": [
    "### The above Graph showcase the number of times in a season(Epsidoe count) a charcter was speaking the most line"
   ],
   "metadata": {}
  },
  {
   "cell_type": "markdown",
   "source": [
    "# Question 3 What is the average of words per line for each character?"
   ],
   "metadata": {}
  },
  {
   "cell_type": "code",
   "execution_count": 51,
   "source": [
    "df['count_words_line_text']=df['cleaned_line_text'].apply(lambda x: len(x))"
   ],
   "outputs": [],
   "metadata": {}
  },
  {
   "cell_type": "code",
   "execution_count": 52,
   "source": [
    "words_per_line=pd.DataFrame(df.groupby('speaker')['count_words_line_text'].mean())"
   ],
   "outputs": [],
   "metadata": {}
  },
  {
   "cell_type": "code",
   "execution_count": 53,
   "source": [
    "words_per_line.reset_index(inplace=True)"
   ],
   "outputs": [],
   "metadata": {}
  },
  {
   "cell_type": "code",
   "execution_count": 54,
   "source": [
    "words_per_line.to_csv(r\"./Question3_Aman_Varma.csv\",header=True, index = False)"
   ],
   "outputs": [],
   "metadata": {}
  },
  {
   "cell_type": "code",
   "execution_count": 55,
   "source": [
    "print(words_per_line)"
   ],
   "outputs": [
    {
     "output_type": "stream",
     "name": "stdout",
     "text": [
      "               speaker  count_words_line_text\n",
      "0    Multiple Speakers               4.950802\n",
      "1                 a.j.               2.750000\n",
      "2                 abby               2.416667\n",
      "3                  abe              11.000000\n",
      "4                actor               3.333333\n",
      "..                 ...                    ...\n",
      "286            woman 4               9.500000\n",
      "287              women               6.333333\n",
      "288             worker               2.000000\n",
      "289               zeke               4.533333\n",
      "290               zion               6.000000\n",
      "\n",
      "[291 rows x 2 columns]\n"
     ]
    }
   ],
   "metadata": {}
  },
  {
   "cell_type": "markdown",
   "source": [
    "### Below graph Shows that maijority of the speakers speaks less thann 5 words in a line on average"
   ],
   "metadata": {}
  },
  {
   "cell_type": "code",
   "execution_count": 56,
   "source": [
    "plt.hist(words_per_line['count_words_line_text'])\r\n",
    "plt.title(\"Aevrage Words per line\")\r\n",
    "plt.xlabel(\"Words count\")\r\n",
    "plt.ylabel(\"Frequency in the season\")\r\n",
    "plt.savefig(r'./Aevrage_Words_per_line.png')\r\n",
    "plt.show()\r\n"
   ],
   "outputs": [
    {
     "output_type": "display_data",
     "data": {
      "image/png": "[encoded data removed]",
      "text/plain": [
       "<Figure size 432x288 with 1 Axes>"
      ]
     },
     "metadata": {
      "needs_background": "light"
     }
    }
   ],
   "metadata": {}
  },
  {
   "cell_type": "markdown",
   "source": [
    "# Question 4 What is the most common word per character"
   ],
   "metadata": {}
  },
  {
   "cell_type": "code",
   "execution_count": 57,
   "source": [
    "words_used_by_character=pd.DataFrame(df.groupby('speaker').agg({'cleaned_line_text':'sum'})) #concatenating the list based on group of speakers"
   ],
   "outputs": [],
   "metadata": {}
  },
  {
   "cell_type": "code",
   "execution_count": 58,
   "source": [
    "words_used_by_character.reset_index(inplace=True)"
   ],
   "outputs": [],
   "metadata": {}
  },
  {
   "cell_type": "code",
   "execution_count": 59,
   "source": [
    "# Function to calculate the highest frequency for a character\r\n",
    "def highest_word_counter(speaker, all_words):  \r\n",
    "    '''\r\n",
    "    Function to calculate the highest frequency for a character\r\n",
    "       \r\n",
    "       Parameters\r\n",
    "       --------------\r\n",
    "       speaker- String\r\n",
    "       Name of the character\r\n",
    "       \r\n",
    "       all_words- List\r\n",
    "       list of words spoken by the characater \r\n",
    "       --------------\r\n",
    "\r\n",
    "    '''\r\n",
    "    freq={}\r\n",
    "    for word in all_words:\r\n",
    "        if word in freq:\r\n",
    "            freq[word]+=1\r\n",
    "        else:\r\n",
    "            freq[word]=1\r\n",
    "    most_used_word=max(freq,key=freq.get)\r\n",
    "    return speaker,most_used_word,freq[most_used_word] \r\n"
   ],
   "outputs": [],
   "metadata": {}
  },
  {
   "cell_type": "code",
   "execution_count": 60,
   "source": [
    "most_used_word_character= list(words_used_by_character.apply(lambda x:highest_word_counter(x['speaker'], x['cleaned_line_text']), axis=1))"
   ],
   "outputs": [],
   "metadata": {}
  },
  {
   "cell_type": "code",
   "execution_count": 61,
   "source": [
    "most_used_word_frame=pd.DataFrame(most_used_word_character,columns=['speaker','high_frequency_word','frequency'])"
   ],
   "outputs": [],
   "metadata": {}
  },
  {
   "cell_type": "code",
   "execution_count": 62,
   "source": [
    "most_used_word_frame.to_csv(r\"./Question4_Aman_Varma.csv\",header=True, index = False)"
   ],
   "outputs": [],
   "metadata": {}
  },
  {
   "cell_type": "code",
   "execution_count": 63,
   "source": [
    "print(most_used_word_frame) #printing the name of the speaker the highest frequency word and the frequency"
   ],
   "outputs": [
    {
     "output_type": "stream",
     "name": "stdout",
     "text": [
      "               speaker high_frequency_word  frequency\n",
      "0    Multiple Speakers                   I       1033\n",
      "1                 a.j.              laughs          2\n",
      "2                 abby                Yeah          2\n",
      "3                  abe                   I          2\n",
      "4                actor                 Hey          2\n",
      "..                 ...                 ...        ...\n",
      "286            woman 4                 Jim          2\n",
      "287              women             general          1\n",
      "288             worker                   I          4\n",
      "289               zeke              Dwight          6\n",
      "290               zion                   I          2\n",
      "\n",
      "[291 rows x 3 columns]\n"
     ]
    }
   ],
   "metadata": {}
  },
  {
   "cell_type": "markdown",
   "source": [
    "# Question 5 The average percent of lines each character contributed each episode per season."
   ],
   "metadata": {}
  },
  {
   "cell_type": "code",
   "execution_count": 64,
   "source": [
    "character_contribution=pd.DataFrame(df.groupby(['season','speaker']).size()) # calculating the number of line sopken by a speaker in a season"
   ],
   "outputs": [],
   "metadata": {}
  },
  {
   "cell_type": "code",
   "execution_count": 65,
   "source": [
    "character_contribution.rename(columns={0:'Total_line_count_per_character'},inplace=True)"
   ],
   "outputs": [],
   "metadata": {}
  },
  {
   "cell_type": "code",
   "execution_count": 66,
   "source": [
    "character_contribution.reset_index(inplace=True)"
   ],
   "outputs": [],
   "metadata": {}
  },
  {
   "cell_type": "code",
   "execution_count": 67,
   "source": [
    "season_line_contribution=pd.DataFrame(df.groupby(['season']).size()) #calculating the number of total lines spoken in a season"
   ],
   "outputs": [],
   "metadata": {}
  },
  {
   "cell_type": "code",
   "execution_count": 68,
   "source": [
    "season_line_contribution.rename(columns={0:'Total_line_count'}, inplace=True)"
   ],
   "outputs": [],
   "metadata": {}
  },
  {
   "cell_type": "code",
   "execution_count": 69,
   "source": [
    "season_line_contribution.reset_index(inplace=True)"
   ],
   "outputs": [],
   "metadata": {}
  },
  {
   "cell_type": "markdown",
   "source": [
    "## Graph showcasing the total lines in the season variation."
   ],
   "metadata": {}
  },
  {
   "cell_type": "code",
   "execution_count": 70,
   "source": [
    "plt.stackplot(season_line_contribution['season'],season_line_contribution['Total_line_count'])\r\n",
    "plt.title(\"Line count variation\")\r\n",
    "plt.xlabel(\"Season\")\r\n",
    "plt.ylabel(\"line count\")\r\n",
    "plt.savefig(r'./Line_count_variation.png')\r\n",
    "plt.show()"
   ],
   "outputs": [
    {
     "output_type": "display_data",
     "data": {
      "image/png": "[encoded data removed]",
      "text/plain": [
       "<Figure size 432x288 with 1 Axes>"
      ]
     },
     "metadata": {
      "needs_background": "light"
     }
    }
   ],
   "metadata": {}
  },
  {
   "cell_type": "code",
   "execution_count": 71,
   "source": [
    "contribution_per_season=pd.merge(character_contribution,season_line_contribution,on='season') "
   ],
   "outputs": [],
   "metadata": {}
  },
  {
   "cell_type": "markdown",
   "source": [
    "### Contribution percentage of each character in each episode per season is defined as total line spoken by speaker in a particular season/ total number of lines spoken in that season * 100"
   ],
   "metadata": {}
  },
  {
   "cell_type": "code",
   "execution_count": 72,
   "source": [
    "contribution_per_season['Contribution percent of characters']=contribution_per_season['Total_line_count_per_character']/contribution_per_season['Total_line_count']*100"
   ],
   "outputs": [],
   "metadata": {}
  },
  {
   "cell_type": "code",
   "execution_count": 73,
   "source": [
    "contribution_per_season.to_csv(r\"./Question5_Aman_Varma.csv\",header=True, index = False)"
   ],
   "outputs": [],
   "metadata": {}
  },
  {
   "cell_type": "code",
   "execution_count": 74,
   "source": [
    "print(contribution_per_season)"
   ],
   "outputs": [
    {
     "output_type": "stream",
     "name": "stdout",
     "text": [
      "     season            speaker  Total_line_count_per_character  \\\n",
      "0         1  Multiple Speakers                              67   \n",
      "1         1             angela                              23   \n",
      "2         1             darryl                              15   \n",
      "3         1             dwight                             222   \n",
      "4         1                jan                              38   \n",
      "..      ...                ...                             ...   \n",
      "587       9            woman 2                               2   \n",
      "588       9            woman 3                               1   \n",
      "589       9            woman 4                               2   \n",
      "590       9             worker                               1   \n",
      "591       9               zeke                              15   \n",
      "\n",
      "     Total_line_count  Contribution percent of characters  \n",
      "0                1536                            4.361979  \n",
      "1                1536                            1.497396  \n",
      "2                1536                            0.976562  \n",
      "3                1536                           14.453125  \n",
      "4                1536                            2.473958  \n",
      "..                ...                                 ...  \n",
      "587              7111                            0.028125  \n",
      "588              7111                            0.014063  \n",
      "589              7111                            0.028125  \n",
      "590              7111                            0.014063  \n",
      "591              7111                            0.210941  \n",
      "\n",
      "[592 rows x 5 columns]\n"
     ]
    }
   ],
   "metadata": {}
  },
  {
   "cell_type": "code",
   "execution_count": 75,
   "source": [
    "michael_presence_viz=contribution_per_season[contribution_per_season['speaker']=='michael']"
   ],
   "outputs": [],
   "metadata": {}
  },
  {
   "cell_type": "code",
   "execution_count": 76,
   "source": [
    "plt.stackplot(michael_presence_viz['season'],michael_presence_viz['Contribution percent of characters']) #michael contribution in series \r\n",
    "plt.title(\"Michael contribution percentage\")\r\n",
    "plt.xlabel(\"Season\")\r\n",
    "plt.ylabel(\"percent\")\r\n",
    "plt.savefig(r'./Michael_contribution_percentage.png')\r\n",
    "plt.show()"
   ],
   "outputs": [
    {
     "output_type": "display_data",
     "data": {
      "image/png": "[encoded data removed]",
      "text/plain": [
       "<Figure size 432x288 with 1 Axes>"
      ]
     },
     "metadata": {
      "needs_background": "light"
     }
    }
   ],
   "metadata": {}
  },
  {
   "cell_type": "markdown",
   "source": [
    "### From the above data we found that some of the character who were leading the show in the start of the season were contributing very less during the last season of the series for eg michael"
   ],
   "metadata": {}
  },
  {
   "cell_type": "markdown",
   "source": [
    "# Question 6 Come up with 2-3 interesting questions yourself surrounding the dataset\r\n"
   ],
   "metadata": {}
  },
  {
   "cell_type": "markdown",
   "source": [
    "### Question 1\r\n",
    "### it would be fun to find the number of time michael says \"Thats what she said quote\" in the series. "
   ],
   "metadata": {}
  },
  {
   "cell_type": "code",
   "execution_count": 86,
   "source": [
    "michael = df[df['speaker']=='michael']"
   ],
   "outputs": [],
   "metadata": {}
  },
  {
   "cell_type": "code",
   "execution_count": 87,
   "source": [
    "michael.reset_index(inplace=True)"
   ],
   "outputs": [],
   "metadata": {}
  },
  {
   "cell_type": "markdown",
   "source": [
    "### The below function is used to find a particular text in lines spoken by the character, so we can use the below function to also find the relationship of the character in the series"
   ],
   "metadata": {}
  },
  {
   "cell_type": "code",
   "execution_count": 88,
   "source": [
    "def michael_say_count(word):\r\n",
    "    '''\r\n",
    "    Function prints the number of time michael has said \"that what she said quote\"\r\n",
    "    -------------------\r\n",
    "    word: Dataframe object\r\n",
    "    it capature the information per character\r\n",
    "    '''\r\n",
    "    \r\n",
    "    flag = 0\r\n",
    "    for j in range(0,len(word)):\r\n",
    "        x = re.search('that\\'s what she said',michael['line_text'][j])\r\n",
    "        y = re.search('That\\'s what she said',michael['line_text'][j])\r\n",
    "        if type(x)==re.Match:\r\n",
    "            flag = flag + 1\r\n",
    "        if type(y)==re.Match:\r\n",
    "            flag = flag + 1\r\n",
    "    \r\n",
    "    return flag\r\n",
    "    \r\n",
    "print(michael_say_count(michael))"
   ],
   "outputs": [
    {
     "output_type": "stream",
     "name": "stdout",
     "text": [
      "21\n"
     ]
    }
   ],
   "metadata": {}
  },
  {
   "cell_type": "markdown",
   "source": [
    "### From the Above result we can conclude that michael has said \"thats what she said quote 21 times in the series\""
   ],
   "metadata": {}
  },
  {
   "cell_type": "markdown",
   "source": [
    "### Question 2\r\n",
    "### Showcase the sentiment of the series based on the line characters speak"
   ],
   "metadata": {}
  },
  {
   "cell_type": "code",
   "execution_count": 80,
   "source": [
    "def polarity(text):\r\n",
    "    '''\r\n",
    "    Function calculate the sentiment score of a particular line based on the words used in that line.\r\n",
    "    ------------------------------------------\r\n",
    "    text: string\r\n",
    "    it accepts the line spoken by the scharcter\r\n",
    "\r\n",
    "    '''\r\n",
    "    return TextBlob(text).sentiment.polarity"
   ],
   "outputs": [],
   "metadata": {}
  },
  {
   "cell_type": "code",
   "execution_count": 81,
   "source": [
    "df['polarity_score'] = df['line_text'].apply(lambda x : polarity(x))\r\n",
    "img=plt.hist(df['polarity_score'])\r\n",
    "plt.title(\"Sentiment score of line spoken\")\r\n",
    "plt.xlabel(\"Sentiment Score\")\r\n",
    "plt.ylabel(\"Count of line\")\r\n",
    "plt.savefig(r'./Sentiment_score_of_line_spoken.png')\r\n",
    "plt.show()\r\n"
   ],
   "outputs": [
    {
     "output_type": "display_data",
     "data": {
      "image/png": "[encoded data removed]",
      "text/plain": [
       "<Figure size 432x288 with 1 Axes>"
      ]
     },
     "metadata": {
      "needs_background": "light"
     }
    }
   ],
   "metadata": {}
  },
  {
   "cell_type": "markdown",
   "source": [
    "### The Office is a show which has a lot of critic becuase of the content or the topics on which the characters speaks, hence I have create a graph above which showcase the sentiment score of the lines. From the graph we can conclude that there were a fare amount of line which carry with themselves a negative tone. "
   ],
   "metadata": {}
  },
  {
   "cell_type": "markdown",
   "source": [
    "\r\n",
    "## Question 3 ( Theoritical Question)\r\n",
    "### if you are allowed add some more data point to the data set what would you add and what would be its impact on analysis\r\n",
    "### Answer 3\r\n",
    "### If I am allowed to add more data points to the given data set I would like to add atleast the Following information:\r\n",
    "### 1. Director of the Episode.\r\n",
    "### 2. IMDB rating of the season.\r\n",
    "### 3. Tweets of the audience on the show\r\n",
    "### From the above extra data points , I would like find the sentiments of the Series among the audience, this would allow me to judge what audience would have wanted in future.\r\n",
    "### Besides that I would like to see if their could be a correlation between a charcater and the imdb rating of the series. In this way I would be able to know what characters I should give more lines in future episode, to enhance the audience experience.\r\n",
    "### I would like to see how the change in director afecting the rating or the audience sentiment for the show.\r\n"
   ],
   "metadata": {}
  },
  {
   "cell_type": "markdown",
   "source": [],
   "metadata": {}
  }
 ],
 "metadata": {
  "kernelspec": {
   "name": "python3",
   "display_name": "Python 3.9.7 64-bit"
  },
  "language_info": {
   "codemirror_mode": {
    "name": "ipython",
    "version": 3
   },
   "file_extension": ".py",
   "mimetype": "text/x-python",
   "name": "python",
   "nbconvert_exporter": "python",
   "pygments_lexer": "ipython3",
   "version": "3.9.7"
  },
  "interpreter": {
   "hash": "3a598917cbcf9bddcdc1e253b8ea5c3127b8b31726730853cd086a01a5f8e41f"
  }
 },
 "nbformat": 4,
 "nbformat_minor": 2
}